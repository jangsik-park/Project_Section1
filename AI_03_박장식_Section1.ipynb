{
  "nbformat": 4,
  "nbformat_minor": 0,
  "metadata": {
    "colab": {
      "name": "AI_03_박장식_Section1",
      "provenance": [],
      "collapsed_sections": [],
      "mount_file_id": "1HNm-9FSITKzrA-t2ANdejbqgKl4lQ7ZS",
      "authorship_tag": "ABX9TyOpCGhDgB3j0tx8/aabmbq7",
      "include_colab_link": true
    },
    "kernelspec": {
      "name": "python3",
      "display_name": "Python 3"
    },
    "language_info": {
      "name": "python"
    }
  },
  "cells": [
    {
      "cell_type": "markdown",
      "metadata": {
        "id": "view-in-github",
        "colab_type": "text"
      },
      "source": [
        "<a href=\"https://colab.research.google.com/github/jangsik-park/hello-world/blob/master/AI_03_%EB%B0%95%EC%9E%A5%EC%8B%9D_Section1.ipynb\" target=\"_parent\"><img src=\"https://colab.research.google.com/assets/colab-badge.svg\" alt=\"Open In Colab\"/></a>"
      ]
    },
    {
      "cell_type": "markdown",
      "metadata": {
        "id": "DuYcHC_484yr"
      },
      "source": [
        "## 🚀 **Section1 Project**\n",
        "\n",
        "### **목표 : 다음 분기에 어떤 게임을 만들어야 할까?**\n",
        "- 추가 조건 설정\n",
        "  - 회사는 급격한 성장이 목적이 아닌 안정적인 수익을 내고 싶다.\n",
        "  \n",
        "\n",
        "<br>\n",
        "\n",
        "### **1. 전략 수립을 위해 반드시 분석해야 하는 내용**\n",
        "- 연도별 게임의 트렌드\n",
        "\n",
        "- 출고량이 높은 게임 분석하기\n",
        "\n",
        "-    지역에 따른 선호 게임 장르\n",
        "\n",
        "\n",
        "<br>\n",
        "\n",
        "### **2.   추가로 알아 볼 내용**\n",
        "\n",
        "- 히트작을 가장 많이 만든 회사는 어디일까?\n",
        "\n",
        "<br>\n",
        "\n",
        "### **3. 작업순서**\n",
        "\n",
        "- 데이터 전처리\n",
        "- 연도별 게임의 트렌드 알아보기\n",
        "- 출고량이 높은 게임에 대한 분석 및 시각화 하기\n",
        "- 지역에 따라서 선호하는 게임 장르가 다른지 알아보기\n",
        "- 히트작을 가장 많이 만든 회사\n",
        "\n",
        "### **4. 자료 파악**\n",
        "\n",
        "- 게임의 장르는 총 **12가지**이다.\n",
        "- Data는 **1980년 ~ 2020**년 까지의 자료가 존재한다.\n",
        "- 총 31가지의 **Platform**이 존재한다.\n",
        "- 중복을 제거하고 총 575개의 **회사** 가 있다.\n",
        "라는 사실을 알 수 있습니다.\n"
      ]
    },
    {
      "cell_type": "markdown",
      "metadata": {
        "id": "gjYhWftctZD0"
      },
      "source": [
        "🕹️ Data Description\n",
        "\n",
        "- Name : 게임의 이름입니다.\n",
        "- Platform : 게임이 지원되는 플랫폼의 이름입니다.\n",
        "- Year : 게임이 출시된 연도입니다.\n",
        "- Genre : 게임의 장르입니다.\n",
        "- Publisher : 게임을 제작한 회사입니다.\n",
        "- NA_Sales : 북미지역에서의 출고량입니다.\n",
        "- EU_Sales : 유럽지역에서의 출고량입니다.\n",
        "- JP_Sales : 일본지역에서의 출고량입니다.\n",
        "- Other_Sales : 기타지역에서의 출고량입니다."
      ]
    },
    {
      "cell_type": "markdown",
      "metadata": {
        "id": "ke5VkTJfQRCY"
      },
      "source": [
        "#### 📢  **데이터 전처리**"
      ]
    },
    {
      "cell_type": "code",
      "metadata": {
        "id": "BnZBay5u6sVE"
      },
      "source": [
        "# 데이터 불러오기\n",
        "import pandas as pd\n",
        "\n",
        "df = pd.read_csv('/content/drive/MyDrive/Colab Notebooks/vgames2.csv',thousands=',', index_col=0)"
      ],
      "execution_count": null,
      "outputs": []
    },
    {
      "cell_type": "code",
      "metadata": {
        "colab": {
          "base_uri": "https://localhost:8080/"
        },
        "id": "QJ7DZxUo7Krx",
        "outputId": "8b3a5d0f-bac6-4208-bfe1-4b789eea651f"
      },
      "source": [
        "# data dimenstion 확인하기\n",
        "print('자료의 shape : ', end='')\n",
        "print(df.shape)\n",
        "print()\n",
        "print('자료의 dtype : ')\n",
        "print(df.dtypes)"
      ],
      "execution_count": null,
      "outputs": [
        {
          "output_type": "stream",
          "text": [
            "자료의 shape : (16598, 9)\n",
            "\n",
            "자료의 dtype : \n",
            "Name            object\n",
            "Platform        object\n",
            "Year           float64\n",
            "Genre           object\n",
            "Publisher       object\n",
            "NA_Sales        object\n",
            "EU_Sales        object\n",
            "JP_Sales        object\n",
            "Other_Sales     object\n",
            "dtype: object\n"
          ],
          "name": "stdout"
        }
      ]
    },
    {
      "cell_type": "code",
      "metadata": {
        "colab": {
          "base_uri": "https://localhost:8080/"
        },
        "id": "ZefBsL-DR_Pp",
        "outputId": "af35713c-5e52-4868-cd5f-25ecddfa227d"
      },
      "source": [
        "# 결측치 확인하기\n",
        "df.isnull().sum()\n",
        "# 중복된 행 찾아보기\n",
        "df.duplicated().sum()\n",
        "# year , 출고량 안의 value값 형태 확인하기\n",
        "\n",
        "## 따라서 df['Year'].unique(), df['EU_Sales'].unique() 코드 실행했다."
      ],
      "execution_count": null,
      "outputs": [
        {
          "output_type": "execute_result",
          "data": {
            "text/plain": [
              "1"
            ]
          },
          "metadata": {
            "tags": []
          },
          "execution_count": 33
        }
      ]
    },
    {
      "cell_type": "code",
      "metadata": {
        "colab": {
          "base_uri": "https://localhost:8080/"
        },
        "id": "qwIB6qjB-ZQ3",
        "outputId": "bd93f89e-7e96-4632-98ad-0c0d1978152e"
      },
      "source": [
        "df['Platform'].unique()"
      ],
      "execution_count": null,
      "outputs": [
        {
          "output_type": "execute_result",
          "data": {
            "text/plain": [
              "array(['DS', 'Wii', 'PSP', 'PS3', 'PC', 'PS', 'GBA', 'PS4', 'PS2', 'XB',\n",
              "       'X360', 'GC', '3DS', '2600', 'SAT', 'GB', 'NES', 'DC', 'N64',\n",
              "       'XOne', 'SNES', 'WiiU', 'PSV', 'GEN', 'SCD', 'WS', 'NG', 'TG16',\n",
              "       '3DO', 'GG', 'PCFX'], dtype=object)"
            ]
          },
          "metadata": {
            "tags": []
          },
          "execution_count": 34
        }
      ]
    },
    {
      "cell_type": "code",
      "metadata": {
        "colab": {
          "base_uri": "https://localhost:8080/"
        },
        "id": "cYSUfdbYLKx0",
        "outputId": "2261c4b6-a937-4b29-a50a-ac29dc39db28"
      },
      "source": [
        "df['Publisher'].value_counts()"
      ],
      "execution_count": null,
      "outputs": [
        {
          "output_type": "execute_result",
          "data": {
            "text/plain": [
              "Electronic Arts                 1351\n",
              "Activision                       975\n",
              "Namco Bandai Games               932\n",
              "Ubisoft                          921\n",
              "Konami Digital Entertainment     832\n",
              "                                ... \n",
              "Yumedia                            1\n",
              "fonfun                             1\n",
              "Simon & Schuster Interactive       1\n",
              "Glams                              1\n",
              "GOA                                1\n",
              "Name: Publisher, Length: 578, dtype: int64"
            ]
          },
          "metadata": {
            "tags": []
          },
          "execution_count": 35
        }
      ]
    },
    {
      "cell_type": "markdown",
      "metadata": {
        "id": "XCx_9LfU83iM"
      },
      "source": [
        "🔥 **자료 파악 결과**\n",
        "- 게임의 장르는 총 **12가지**이다.\n",
        "- Data는 **1980년 ~ 2020**년 까지의 자료가 존재한다.\n",
        "- 총 31가지의 **Platform**이 존재한다.\n",
        "- 중복을 제거하고 총 575개의 **회사** 가 있다.\n",
        "라는 사실을 알 수 있습니다.\n",
        "\n",
        "<br>\n",
        "그리고 데이터에서 아래와 같은 문제점이 발견되었습니다. \n",
        "\n",
        "🔥   **문제점 발견**\n",
        "\n",
        "- 결측치가 있는 행이 존재한다. (따라서 삭제해야 한다)\n",
        "- Year의 형태가 제각각이다. ex) 80, 1\n",
        "  - int로 형 변환\n",
        "  - 변환 후 정확한 연도를 알 수 없는 데이터는 지우기\n",
        "- 국가별 출고량의 type이 문자형이다\n",
        "  - 출고량에 붙어 있는 단위, k와m을 처리해야 숫자형으로 바꿀 수가 있다.\n",
        "  - K가 붙었으면 제거하고 숫자로 바꾼다음에 조건식을 이용해서 처리한다.\n",
        "  - M이 붙었으면 문자만 제거한다.\n"
      ]
    },
    {
      "cell_type": "code",
      "metadata": {
        "id": "CLacgV61SXc4"
      },
      "source": [
        "# 결측치 존재 행 삭제\n",
        "df = df.dropna()\n",
        "# Year를 정수로 바꿔준다\n",
        "df['Year'] = df['Year'].astype(int)"
      ],
      "execution_count": null,
      "outputs": []
    },
    {
      "cell_type": "code",
      "metadata": {
        "id": "r17SAsCBZfvr"
      },
      "source": [
        "# year형태 파악 \n",
        "df['Year'].unique()\n",
        "\n",
        "# 그 결과 0,9,97,11,15,3,96,6,8,1,5,4,10,98,7,16,86,14,95,2,13,12,94 값인 것을 알맞게 바꿔줘야 함을 알 수 있다.\n",
        "# for문으로 한자리 숫자면 앞에 2000, \n",
        "# 두자리 숫자이고 21 보다 작으면 앞에 20\n",
        "# 21 보다 큰 숫자이면 앞에 19 를 붙여서 쉽게 할 수 있을 것 같으나.. 노가다 시행\n",
        "\n",
        "df.replace({'Year':0},{'Year':2000},inplace= True)\n",
        "df.replace({'Year':9},{'Year':2009},inplace= True)\n",
        "df.replace({'Year':97},{'Year':1997},inplace= True)\n",
        "df.replace({'Year':11},{'Year':2011},inplace= True)\n",
        "df.replace({'Year':15},{'Year':2015},inplace= True)\n",
        "df.replace({'Year':3},{'Year':2003},inplace= True)\n",
        "df.replace({'Year':96},{'Year':1996},inplace= True)\n",
        "df.replace({'Year':6},{'Year':2006},inplace= True)\n",
        "df.replace({'Year':8},{'Year':2008},inplace= True)\n",
        "df.replace({'Year':1},{'Year':2001},inplace= True)\n",
        "df.replace({'Year':5},{'Year':2005},inplace= True)\n",
        "df.replace({'Year':4},{'Year':10},inplace= True)\n",
        "df.replace({'Year':98},{'Year':1998},inplace= True)\n",
        "df.replace({'Year':7},{'Year':2007},inplace= True)\n",
        "df.replace({'Year':16},{'Year':2016},inplace= True)\n",
        "df.replace({'Year':86},{'Year':1986},inplace= True)\n",
        "df.replace({'Year':14},{'Year':2014},inplace= True)\n",
        "df.replace({'Year':95},{'Year':1995},inplace= True)\n",
        "df.replace({'Year':2},{'Year':2002},inplace= True)\n",
        "df.replace({'Year':13},{'Year':2013},inplace= True)\n",
        "df.replace({'Year':12},{'Year':2012},inplace= True)\n",
        "df.replace({'Year':94},{'Year':1994},inplace= True)\n",
        "df.replace({'Year':10},{'Year':2010},inplace= True)"
      ],
      "execution_count": null,
      "outputs": []
    },
    {
      "cell_type": "code",
      "metadata": {
        "id": "DPrqftIifCOA"
      },
      "source": [
        "#df에서 M을 공백으로 바꿔주기\n",
        "df['NA_Sales'] = df['NA_Sales'].str.replace('M','')\n",
        "\n",
        "df['EU_Sales'] = df['EU_Sales'].str.replace('M','')\n",
        "\n",
        "df['JP_Sales'] = df['JP_Sales'].str.replace('M','')\n",
        "\n",
        "df['Other_Sales'] = df['Other_Sales'].str.replace('M','')"
      ],
      "execution_count": null,
      "outputs": []
    },
    {
      "cell_type": "code",
      "metadata": {
        "id": "yugJO2NzkTQ-"
      },
      "source": [
        "#df에서 K를 공백으로 바꿔주기\n",
        "#이후 df에서 정수인 부분을 찾아서 소수로 바꿔줄 것이다.\n",
        "df['NA_Sales'] = df['NA_Sales'].str.replace('K','')\n",
        "\n",
        "df['EU_Sales'] = df['EU_Sales'].str.replace('K','')\n",
        "\n",
        "df['JP_Sales'] = df['JP_Sales'].str.replace('K','')\n",
        "\n",
        "df['Other_Sales'] = df['Other_Sales'].str.replace('K','')\n",
        "\n",
        "# 특정 문자가 있는 행 조회하기\n",
        "#df.loc[df['NA_Sales'].str.contains('K')]"
      ],
      "execution_count": null,
      "outputs": []
    },
    {
      "cell_type": "code",
      "metadata": {
        "id": "Gpmcmx84jdpx"
      },
      "source": [
        "# 출고량을 숫자로 바꿔주기\n",
        "\n",
        "df['NA_Sales'] = df['NA_Sales'].apply(pd.to_numeric)\n",
        "df['EU_Sales'] = df['EU_Sales'].apply(pd.to_numeric)\n",
        "df['JP_Sales'] = df['JP_Sales'].apply(pd.to_numeric)\n",
        "df['Other_Sales'] = df['Other_Sales'].apply(pd.to_numeric)"
      ],
      "execution_count": null,
      "outputs": []
    },
    {
      "cell_type": "code",
      "metadata": {
        "id": "ofmi8t49X9p_"
      },
      "source": [
        "# 만약 sales 값을 10으로 나눈 나머지가 0이라면 0.001을 곱한다.\n",
        "for j in range(5,9):\n",
        "  for i in range(len(df)):\n",
        "    if df.iloc[i,j ]%10 == 0:\n",
        "      df.iloc[i,j] =  df.iloc[i,j]*0.001\n",
        "  else:\n",
        "    continue"
      ],
      "execution_count": null,
      "outputs": []
    },
    {
      "cell_type": "code",
      "metadata": {
        "colab": {
          "base_uri": "https://localhost:8080/",
          "height": 225
        },
        "id": "Y5Tm8Wb51hLR",
        "outputId": "c1e229eb-167f-4f06-cf83-2437a8098d5a"
      },
      "source": [
        "# k와 m을 지우고 알맞게 값들이 변환 되었는지 확인하기\n",
        "o =df['Name']=='Warriors Orochi 3'\n",
        "df[o]"
      ],
      "execution_count": null,
      "outputs": [
        {
          "output_type": "execute_result",
          "data": {
            "text/html": [
              "<div>\n",
              "<style scoped>\n",
              "    .dataframe tbody tr th:only-of-type {\n",
              "        vertical-align: middle;\n",
              "    }\n",
              "\n",
              "    .dataframe tbody tr th {\n",
              "        vertical-align: top;\n",
              "    }\n",
              "\n",
              "    .dataframe thead th {\n",
              "        text-align: right;\n",
              "    }\n",
              "</style>\n",
              "<table border=\"1\" class=\"dataframe\">\n",
              "  <thead>\n",
              "    <tr style=\"text-align: right;\">\n",
              "      <th></th>\n",
              "      <th>Name</th>\n",
              "      <th>Platform</th>\n",
              "      <th>Year</th>\n",
              "      <th>Genre</th>\n",
              "      <th>Publisher</th>\n",
              "      <th>NA_Sales</th>\n",
              "      <th>EU_Sales</th>\n",
              "      <th>JP_Sales</th>\n",
              "      <th>Other_Sales</th>\n",
              "    </tr>\n",
              "  </thead>\n",
              "  <tbody>\n",
              "    <tr>\n",
              "      <th>139</th>\n",
              "      <td>Warriors Orochi 3</td>\n",
              "      <td>PS4</td>\n",
              "      <td>2014</td>\n",
              "      <td>Action</td>\n",
              "      <td>Tecmo Koei</td>\n",
              "      <td>0.04</td>\n",
              "      <td>0.05</td>\n",
              "      <td>0.04</td>\n",
              "      <td>0.02</td>\n",
              "    </tr>\n",
              "    <tr>\n",
              "      <th>2052</th>\n",
              "      <td>Warriors Orochi 3</td>\n",
              "      <td>PS3</td>\n",
              "      <td>2011</td>\n",
              "      <td>Action</td>\n",
              "      <td>Ubisoft Annecy</td>\n",
              "      <td>0.00</td>\n",
              "      <td>0.04</td>\n",
              "      <td>0.57</td>\n",
              "      <td>0.01</td>\n",
              "    </tr>\n",
              "    <tr>\n",
              "      <th>6876</th>\n",
              "      <td>Warriors Orochi 3</td>\n",
              "      <td>PSV</td>\n",
              "      <td>2013</td>\n",
              "      <td>Action</td>\n",
              "      <td>Tecmo Koei</td>\n",
              "      <td>0.00</td>\n",
              "      <td>0.00</td>\n",
              "      <td>0.07</td>\n",
              "      <td>0.00</td>\n",
              "    </tr>\n",
              "    <tr>\n",
              "      <th>7036</th>\n",
              "      <td>Warriors Orochi 3</td>\n",
              "      <td>PSP</td>\n",
              "      <td>2012</td>\n",
              "      <td>Action</td>\n",
              "      <td>Ubisoft Annecy</td>\n",
              "      <td>0.00</td>\n",
              "      <td>0.00</td>\n",
              "      <td>0.11</td>\n",
              "      <td>0.00</td>\n",
              "    </tr>\n",
              "    <tr>\n",
              "      <th>7128</th>\n",
              "      <td>Warriors Orochi 3</td>\n",
              "      <td>XOne</td>\n",
              "      <td>2014</td>\n",
              "      <td>Action</td>\n",
              "      <td>Tecmo Koei</td>\n",
              "      <td>0.01</td>\n",
              "      <td>0.03</td>\n",
              "      <td>0.00</td>\n",
              "      <td>0.00</td>\n",
              "    </tr>\n",
              "    <tr>\n",
              "      <th>10174</th>\n",
              "      <td>Warriors Orochi 3</td>\n",
              "      <td>X360</td>\n",
              "      <td>2011</td>\n",
              "      <td>Action</td>\n",
              "      <td>Ubisoft Annecy</td>\n",
              "      <td>0.09</td>\n",
              "      <td>0.03</td>\n",
              "      <td>0.03</td>\n",
              "      <td>0.01</td>\n",
              "    </tr>\n",
              "  </tbody>\n",
              "</table>\n",
              "</div>"
            ],
            "text/plain": [
              "                    Name Platform  Year  ... EU_Sales JP_Sales  Other_Sales\n",
              "139    Warriors Orochi 3      PS4  2014  ...     0.05     0.04         0.02\n",
              "2052   Warriors Orochi 3      PS3  2011  ...     0.04     0.57         0.01\n",
              "6876   Warriors Orochi 3      PSV  2013  ...     0.00     0.07         0.00\n",
              "7036   Warriors Orochi 3      PSP  2012  ...     0.00     0.11         0.00\n",
              "7128   Warriors Orochi 3     XOne  2014  ...     0.03     0.00         0.00\n",
              "10174  Warriors Orochi 3     X360  2011  ...     0.03     0.03         0.01\n",
              "\n",
              "[6 rows x 9 columns]"
            ]
          },
          "metadata": {
            "tags": []
          },
          "execution_count": 42
        }
      ]
    },
    {
      "cell_type": "markdown",
      "metadata": {
        "id": "ntu42CESlQJl"
      },
      "source": [
        "#### 📢 **연도별 게임의 트랜드 알아보기**\n",
        "\n",
        "- 게임 트랜드를 알기 위해서는 각 년도별 **'어떤 장르'**의 게임이 많이 출시 되었는지를 알아보면 된다고 생각했다.\n",
        "- 따라서 아래와 같은 과정으로 분석을 진행했다."
      ]
    },
    {
      "cell_type": "code",
      "metadata": {
        "id": "KA98xjf5lTcd"
      },
      "source": [
        "# df에서 연도와 장르 컬럼만 따로 뽑아서 df1으로 만들기\n",
        "df1 = df[['Year','Genre']]\n",
        "\n",
        "# df1에서 Year를 기준으로 Cross tabulation 진행하여 df2에 저장\n",
        "df2 = pd.crosstab(index=df1.Year, columns= df1.Genre)"
      ],
      "execution_count": null,
      "outputs": []
    },
    {
      "cell_type": "code",
      "metadata": {
        "colab": {
          "base_uri": "https://localhost:8080/",
          "height": 674
        },
        "id": "ZaJk9cvQwjha",
        "outputId": "c5c48610-7f08-457e-bdf6-89abd3b8b85a"
      },
      "source": [
        "import seaborn as sns\n",
        "import matplotlib.pyplot as plt\n",
        "\n",
        "# 1980 ~ 2020년까지 게임 장르별 합계\n",
        "graph1 = pd.DataFrame(df2.sum())\n",
        "\n",
        "# 장르 합계 시각화\n",
        "sns.barplot(x=graph1.index, y=0, data=graph1)\n",
        "plt.title('Sum of Genre', fontsize=50)\n",
        "plt.rcParams['figure.figsize'] = [60, 10]\n",
        "plt.show()"
      ],
      "execution_count": null,
      "outputs": [
        {
          "output_type": "display_data",
          "data": {
            "image/png": "[encoded data removed]",
            "text/plain": [
              "<Figure size 4320x720 with 1 Axes>"
            ]
          },
          "metadata": {
            "tags": [],
            "needs_background": "light"
          }
        }
      ]
    },
    {
      "cell_type": "code",
      "metadata": {
        "colab": {
          "base_uri": "https://localhost:8080/",
          "height": 432
        },
        "id": "GEIZEZGgDPcH",
        "outputId": "bd610acf-fc51-4b02-8e06-23af5165ea2b"
      },
      "source": [
        "# 년도별 출시된 게임 장르의 총 합계를 내림차순으로 정렬\n",
        "graph1.sort_values(by= 0,ascending= False)"
      ],
      "execution_count": null,
      "outputs": [
        {
          "output_type": "execute_result",
          "data": {
            "text/html": [
              "<div>\n",
              "<style scoped>\n",
              "    .dataframe tbody tr th:only-of-type {\n",
              "        vertical-align: middle;\n",
              "    }\n",
              "\n",
              "    .dataframe tbody tr th {\n",
              "        vertical-align: top;\n",
              "    }\n",
              "\n",
              "    .dataframe thead th {\n",
              "        text-align: right;\n",
              "    }\n",
              "</style>\n",
              "<table border=\"1\" class=\"dataframe\">\n",
              "  <thead>\n",
              "    <tr style=\"text-align: right;\">\n",
              "      <th></th>\n",
              "      <th>0</th>\n",
              "    </tr>\n",
              "    <tr>\n",
              "      <th>Genre</th>\n",
              "      <th></th>\n",
              "    </tr>\n",
              "  </thead>\n",
              "  <tbody>\n",
              "    <tr>\n",
              "      <th>Action</th>\n",
              "      <td>3240</td>\n",
              "    </tr>\n",
              "    <tr>\n",
              "      <th>Sports</th>\n",
              "      <td>2299</td>\n",
              "    </tr>\n",
              "    <tr>\n",
              "      <th>Misc</th>\n",
              "      <td>1681</td>\n",
              "    </tr>\n",
              "    <tr>\n",
              "      <th>Role-Playing</th>\n",
              "      <td>1465</td>\n",
              "    </tr>\n",
              "    <tr>\n",
              "      <th>Shooter</th>\n",
              "      <td>1280</td>\n",
              "    </tr>\n",
              "    <tr>\n",
              "      <th>Adventure</th>\n",
              "      <td>1268</td>\n",
              "    </tr>\n",
              "    <tr>\n",
              "      <th>Racing</th>\n",
              "      <td>1219</td>\n",
              "    </tr>\n",
              "    <tr>\n",
              "      <th>Platform</th>\n",
              "      <td>873</td>\n",
              "    </tr>\n",
              "    <tr>\n",
              "      <th>Simulation</th>\n",
              "      <td>846</td>\n",
              "    </tr>\n",
              "    <tr>\n",
              "      <th>Fighting</th>\n",
              "      <td>835</td>\n",
              "    </tr>\n",
              "    <tr>\n",
              "      <th>Strategy</th>\n",
              "      <td>669</td>\n",
              "    </tr>\n",
              "    <tr>\n",
              "      <th>Puzzle</th>\n",
              "      <td>566</td>\n",
              "    </tr>\n",
              "  </tbody>\n",
              "</table>\n",
              "</div>"
            ],
            "text/plain": [
              "                 0\n",
              "Genre             \n",
              "Action        3240\n",
              "Sports        2299\n",
              "Misc          1681\n",
              "Role-Playing  1465\n",
              "Shooter       1280\n",
              "Adventure     1268\n",
              "Racing        1219\n",
              "Platform       873\n",
              "Simulation     846\n",
              "Fighting       835\n",
              "Strategy       669\n",
              "Puzzle         566"
            ]
          },
          "metadata": {
            "tags": []
          },
          "execution_count": 45
        }
      ]
    },
    {
      "cell_type": "code",
      "metadata": {
        "colab": {
          "base_uri": "https://localhost:8080/",
          "height": 1000
        },
        "id": "pgpIRH5CoizU",
        "outputId": "a4be558a-c098-44da-8691-48b0c5c1318a"
      },
      "source": [
        "# 각 년도별, 제일 많은 수를 차지하고 있는 장르와 그 값 구해서 df3에 저장\n",
        "df3 = pd.concat([df2.idxmax(axis=1),df2.max(axis=1)],axis=1)\n",
        "df3"
      ],
      "execution_count": null,
      "outputs": [
        {
          "output_type": "execute_result",
          "data": {
            "text/html": [
              "<div>\n",
              "<style scoped>\n",
              "    .dataframe tbody tr th:only-of-type {\n",
              "        vertical-align: middle;\n",
              "    }\n",
              "\n",
              "    .dataframe tbody tr th {\n",
              "        vertical-align: top;\n",
              "    }\n",
              "\n",
              "    .dataframe thead th {\n",
              "        text-align: right;\n",
              "    }\n",
              "</style>\n",
              "<table border=\"1\" class=\"dataframe\">\n",
              "  <thead>\n",
              "    <tr style=\"text-align: right;\">\n",
              "      <th></th>\n",
              "      <th>0</th>\n",
              "      <th>1</th>\n",
              "    </tr>\n",
              "    <tr>\n",
              "      <th>Year</th>\n",
              "      <th></th>\n",
              "      <th></th>\n",
              "    </tr>\n",
              "  </thead>\n",
              "  <tbody>\n",
              "    <tr>\n",
              "      <th>1980</th>\n",
              "      <td>Misc</td>\n",
              "      <td>4</td>\n",
              "    </tr>\n",
              "    <tr>\n",
              "      <th>1981</th>\n",
              "      <td>Action</td>\n",
              "      <td>25</td>\n",
              "    </tr>\n",
              "    <tr>\n",
              "      <th>1982</th>\n",
              "      <td>Action</td>\n",
              "      <td>18</td>\n",
              "    </tr>\n",
              "    <tr>\n",
              "      <th>1983</th>\n",
              "      <td>Action</td>\n",
              "      <td>7</td>\n",
              "    </tr>\n",
              "    <tr>\n",
              "      <th>1984</th>\n",
              "      <td>Puzzle</td>\n",
              "      <td>3</td>\n",
              "    </tr>\n",
              "    <tr>\n",
              "      <th>1985</th>\n",
              "      <td>Platform</td>\n",
              "      <td>4</td>\n",
              "    </tr>\n",
              "    <tr>\n",
              "      <th>1986</th>\n",
              "      <td>Action</td>\n",
              "      <td>6</td>\n",
              "    </tr>\n",
              "    <tr>\n",
              "      <th>1987</th>\n",
              "      <td>Sports</td>\n",
              "      <td>4</td>\n",
              "    </tr>\n",
              "    <tr>\n",
              "      <th>1988</th>\n",
              "      <td>Platform</td>\n",
              "      <td>4</td>\n",
              "    </tr>\n",
              "    <tr>\n",
              "      <th>1989</th>\n",
              "      <td>Puzzle</td>\n",
              "      <td>5</td>\n",
              "    </tr>\n",
              "    <tr>\n",
              "      <th>1990</th>\n",
              "      <td>Action</td>\n",
              "      <td>3</td>\n",
              "    </tr>\n",
              "    <tr>\n",
              "      <th>1991</th>\n",
              "      <td>Sports</td>\n",
              "      <td>7</td>\n",
              "    </tr>\n",
              "    <tr>\n",
              "      <th>1992</th>\n",
              "      <td>Fighting</td>\n",
              "      <td>7</td>\n",
              "    </tr>\n",
              "    <tr>\n",
              "      <th>1993</th>\n",
              "      <td>Fighting</td>\n",
              "      <td>11</td>\n",
              "    </tr>\n",
              "    <tr>\n",
              "      <th>1994</th>\n",
              "      <td>Fighting</td>\n",
              "      <td>22</td>\n",
              "    </tr>\n",
              "    <tr>\n",
              "      <th>1995</th>\n",
              "      <td>Fighting</td>\n",
              "      <td>29</td>\n",
              "    </tr>\n",
              "    <tr>\n",
              "      <th>1996</th>\n",
              "      <td>Sports</td>\n",
              "      <td>52</td>\n",
              "    </tr>\n",
              "    <tr>\n",
              "      <th>1997</th>\n",
              "      <td>Sports</td>\n",
              "      <td>46</td>\n",
              "    </tr>\n",
              "    <tr>\n",
              "      <th>1998</th>\n",
              "      <td>Sports</td>\n",
              "      <td>70</td>\n",
              "    </tr>\n",
              "    <tr>\n",
              "      <th>1999</th>\n",
              "      <td>Sports</td>\n",
              "      <td>62</td>\n",
              "    </tr>\n",
              "    <tr>\n",
              "      <th>2000</th>\n",
              "      <td>Sports</td>\n",
              "      <td>81</td>\n",
              "    </tr>\n",
              "    <tr>\n",
              "      <th>2001</th>\n",
              "      <td>Sports</td>\n",
              "      <td>96</td>\n",
              "    </tr>\n",
              "    <tr>\n",
              "      <th>2002</th>\n",
              "      <td>Sports</td>\n",
              "      <td>188</td>\n",
              "    </tr>\n",
              "    <tr>\n",
              "      <th>2003</th>\n",
              "      <td>Action</td>\n",
              "      <td>144</td>\n",
              "    </tr>\n",
              "    <tr>\n",
              "      <th>2004</th>\n",
              "      <td>Action</td>\n",
              "      <td>124</td>\n",
              "    </tr>\n",
              "    <tr>\n",
              "      <th>2005</th>\n",
              "      <td>Action</td>\n",
              "      <td>192</td>\n",
              "    </tr>\n",
              "    <tr>\n",
              "      <th>2006</th>\n",
              "      <td>Action</td>\n",
              "      <td>184</td>\n",
              "    </tr>\n",
              "    <tr>\n",
              "      <th>2007</th>\n",
              "      <td>Action</td>\n",
              "      <td>210</td>\n",
              "    </tr>\n",
              "    <tr>\n",
              "      <th>2008</th>\n",
              "      <td>Action</td>\n",
              "      <td>219</td>\n",
              "    </tr>\n",
              "    <tr>\n",
              "      <th>2009</th>\n",
              "      <td>Action</td>\n",
              "      <td>271</td>\n",
              "    </tr>\n",
              "    <tr>\n",
              "      <th>2010</th>\n",
              "      <td>Action</td>\n",
              "      <td>227</td>\n",
              "    </tr>\n",
              "    <tr>\n",
              "      <th>2011</th>\n",
              "      <td>Action</td>\n",
              "      <td>239</td>\n",
              "    </tr>\n",
              "    <tr>\n",
              "      <th>2012</th>\n",
              "      <td>Action</td>\n",
              "      <td>263</td>\n",
              "    </tr>\n",
              "    <tr>\n",
              "      <th>2013</th>\n",
              "      <td>Action</td>\n",
              "      <td>148</td>\n",
              "    </tr>\n",
              "    <tr>\n",
              "      <th>2014</th>\n",
              "      <td>Action</td>\n",
              "      <td>186</td>\n",
              "    </tr>\n",
              "    <tr>\n",
              "      <th>2015</th>\n",
              "      <td>Action</td>\n",
              "      <td>253</td>\n",
              "    </tr>\n",
              "    <tr>\n",
              "      <th>2016</th>\n",
              "      <td>Action</td>\n",
              "      <td>118</td>\n",
              "    </tr>\n",
              "    <tr>\n",
              "      <th>2017</th>\n",
              "      <td>Role-Playing</td>\n",
              "      <td>2</td>\n",
              "    </tr>\n",
              "    <tr>\n",
              "      <th>2020</th>\n",
              "      <td>Simulation</td>\n",
              "      <td>1</td>\n",
              "    </tr>\n",
              "  </tbody>\n",
              "</table>\n",
              "</div>"
            ],
            "text/plain": [
              "                 0    1\n",
              "Year                   \n",
              "1980          Misc    4\n",
              "1981        Action   25\n",
              "1982        Action   18\n",
              "1983        Action    7\n",
              "1984        Puzzle    3\n",
              "1985      Platform    4\n",
              "1986        Action    6\n",
              "1987        Sports    4\n",
              "1988      Platform    4\n",
              "1989        Puzzle    5\n",
              "1990        Action    3\n",
              "1991        Sports    7\n",
              "1992      Fighting    7\n",
              "1993      Fighting   11\n",
              "1994      Fighting   22\n",
              "1995      Fighting   29\n",
              "1996        Sports   52\n",
              "1997        Sports   46\n",
              "1998        Sports   70\n",
              "1999        Sports   62\n",
              "2000        Sports   81\n",
              "2001        Sports   96\n",
              "2002        Sports  188\n",
              "2003        Action  144\n",
              "2004        Action  124\n",
              "2005        Action  192\n",
              "2006        Action  184\n",
              "2007        Action  210\n",
              "2008        Action  219\n",
              "2009        Action  271\n",
              "2010        Action  227\n",
              "2011        Action  239\n",
              "2012        Action  263\n",
              "2013        Action  148\n",
              "2014        Action  186\n",
              "2015        Action  253\n",
              "2016        Action  118\n",
              "2017  Role-Playing    2\n",
              "2020    Simulation    1"
            ]
          },
          "metadata": {
            "tags": []
          },
          "execution_count": 46
        }
      ]
    },
    {
      "cell_type": "markdown",
      "metadata": {
        "id": "8mYQEWGqyXTl"
      },
      "source": [
        "#####📌 **게임 장르에 대한 설명**\n",
        "\n",
        "- 우선 게임의 장르는 총 12개이다. 이해를 돕기 위해 게임의 장르에 대해 정리 했다.\n",
        "\n",
        "  - **Role-Playing** : RPG게임, 역할 연기 게임\n",
        "  - **Action** : 일정한 스토리에 따라 실시간으로 캐릭터의 행동을 직접 조작하는 게임 ex) 스파이더맨_PS4\n",
        "  - **Fighthing** : 두명 혹은 그 이상의 플레이어가 서로 '대결'을 하는 게임 ex) 철권_PS4 \n",
        "  - **Adventure** : 주인공이 겪는 여러가지 모험을 게임으로 그려낸 게임\n",
        "  - **Simulation** : 현실의 무언가를 비슷하게 따라하고 재현하는 게임 ex) 비행기 조작 OR 자동차 조작 게임\n",
        "  - **Racing** : 경주에 초점이 맞춰져 있는 게임 ex) 자동차 경주 게임\n",
        "  - **Sports** : 스포츠를 소재로 한 게임 ex) 피파2021_PS4\n",
        "  - **Shooter** : 적의 공격을 피하며 무기를 쏘는 게임 ex) 콜오브듀티\n",
        "  - **Misc** : 성별에 관계 없이 즐길 수 있는 게임 ex) 마리오카트\n",
        "  - **Platform** : 플랫폼 게임이란 게임의 형식 또는 장르. 플랫포머나 점프 앤 런이라고도 한다. ex) 슈퍼마리오 \n",
        "  - **Puzzel** : ex) 테트리스\n",
        "  - **Startegy** : ex) 스타크래프트"
      ]
    },
    {
      "cell_type": "markdown",
      "metadata": {
        "id": "clS6Y5LPrK8b"
      },
      "source": [
        "##### 📌 **결과 정리**\n",
        "\n",
        "- 위에서 1980년도 ~ 2020년까지 연도별 게임의 트랜드에 대해 알아 보았다.\n",
        "\n",
        "<br>\n",
        "\n",
        "- 80년대 초에는 **Action** 게임이 인기 있었다.\n",
        "- 90년도 초반부터 중반까지 **격투게임**이 인기 있었음을 알 수 있다.\n",
        "- 90년대 중반부터 2000년대 초반까지는 **Sports** 게임이 인기 있었음을 알 수 있다.\n",
        "- 이후 2016년까지는 **Action** 게임이 가장 인기가 많았다.\n",
        "\n",
        "- **마지막**으로 최근에는 **RPG게임**이나 **Simulation ex) 메이크업 아티스트** 게임이 상대적으로 많이 출시되고 있음을 알 수 있다\n",
        "<br>\n",
        "\n",
        "- 총 기간 동안 출시된 게임의 수는\n",
        "  **액션이 3240개**로 지금까지 가장 많이 출시된 게임 장르이다.\n",
        "- **Sports 는 2299개**로 두번째로 많이 출시된 게임 장르이다.\n",
        "- **Puzzel**이 가장 적게 출시된 장르이다.  \n",
        "\n",
        "   "
      ]
    },
    {
      "cell_type": "markdown",
      "metadata": {
        "id": "AF8MNBhd7yxX"
      },
      "source": [
        "📌 결과를 통한 아이디어 도출\n",
        "\n",
        "- Action게임은 1980년대 이후로 가장 많이 출시된 게임 장르이다. 또한 가장 최근까지도 활발하게 출시되었었다. <br>\n",
        " - 따라서 게임업계에서 Action게임은 유저들에게 가장 **'호불호'**가 심하지 않으며, **수요가 많은** 장르라고 생각되어진다. \n",
        "\n",
        "⭐️ **결론** <br>\n",
        ": 이와같은 이유로, 다음분기의 게임 장르로 **Action**을 만든다면 회사는 **안정적인 투자**를 할 수 있다."
      ]
    },
    {
      "cell_type": "markdown",
      "metadata": {
        "id": "NTfrFqYvNR7w"
      },
      "source": [
        "#### 📢 **출고량이 높은 게임 알아보기**"
      ]
    },
    {
      "cell_type": "code",
      "metadata": {
        "colab": {
          "base_uri": "https://localhost:8080/",
          "height": 343
        },
        "id": "EBgXMZaPTYPE",
        "outputId": "2793fc41-0527-4b31-915c-c5e8e3db3433"
      },
      "source": [
        "# df에 'Sales_Total' 열 만들어서 4개의 출고량 합으로 채우기\n",
        "\n",
        "df['Sales_Total'] = df['NA_Sales']+df['EU_Sales']+df['JP_Sales']+df['Other_Sales']\n",
        "\n",
        "# df에서 Name과 Platform, Genre, Sales_Total만 추출하기 = df4에 저장\n",
        "\n",
        "df4 = df[['Name','Platform','Genre','Sales_Total']]\n",
        "df4.head(10)"
      ],
      "execution_count": null,
      "outputs": [
        {
          "output_type": "execute_result",
          "data": {
            "text/html": [
              "<div>\n",
              "<style scoped>\n",
              "    .dataframe tbody tr th:only-of-type {\n",
              "        vertical-align: middle;\n",
              "    }\n",
              "\n",
              "    .dataframe tbody tr th {\n",
              "        vertical-align: top;\n",
              "    }\n",
              "\n",
              "    .dataframe thead th {\n",
              "        text-align: right;\n",
              "    }\n",
              "</style>\n",
              "<table border=\"1\" class=\"dataframe\">\n",
              "  <thead>\n",
              "    <tr style=\"text-align: right;\">\n",
              "      <th></th>\n",
              "      <th>Name</th>\n",
              "      <th>Platform</th>\n",
              "      <th>Genre</th>\n",
              "      <th>Sales_Total</th>\n",
              "    </tr>\n",
              "  </thead>\n",
              "  <tbody>\n",
              "    <tr>\n",
              "      <th>1</th>\n",
              "      <td>Candace Kane's Candy Factory</td>\n",
              "      <td>DS</td>\n",
              "      <td>Action</td>\n",
              "      <td>0.04</td>\n",
              "    </tr>\n",
              "    <tr>\n",
              "      <th>2</th>\n",
              "      <td>The Munchables</td>\n",
              "      <td>Wii</td>\n",
              "      <td>Action</td>\n",
              "      <td>0.18</td>\n",
              "    </tr>\n",
              "    <tr>\n",
              "      <th>3</th>\n",
              "      <td>Otome wa Oanesama Boku ni Koi Shiteru Portable</td>\n",
              "      <td>PSP</td>\n",
              "      <td>Adventure</td>\n",
              "      <td>0.02</td>\n",
              "    </tr>\n",
              "    <tr>\n",
              "      <th>4</th>\n",
              "      <td>Deal or No Deal: Special Edition</td>\n",
              "      <td>DS</td>\n",
              "      <td>Misc</td>\n",
              "      <td>0.04</td>\n",
              "    </tr>\n",
              "    <tr>\n",
              "      <th>5</th>\n",
              "      <td>Ben 10 Ultimate Alien: Cosmic Destruction</td>\n",
              "      <td>PS3</td>\n",
              "      <td>Platform</td>\n",
              "      <td>0.25</td>\n",
              "    </tr>\n",
              "    <tr>\n",
              "      <th>6</th>\n",
              "      <td>Power Pro Kun Pocket 8</td>\n",
              "      <td>DS</td>\n",
              "      <td>Sports</td>\n",
              "      <td>0.14</td>\n",
              "    </tr>\n",
              "    <tr>\n",
              "      <th>7</th>\n",
              "      <td>JASF: Jane's Advanced Strike Fighters</td>\n",
              "      <td>PC</td>\n",
              "      <td>Simulation</td>\n",
              "      <td>0.03</td>\n",
              "    </tr>\n",
              "    <tr>\n",
              "      <th>8</th>\n",
              "      <td>Samurai Warriors: State of War</td>\n",
              "      <td>PSP</td>\n",
              "      <td>Action</td>\n",
              "      <td>0.19</td>\n",
              "    </tr>\n",
              "    <tr>\n",
              "      <th>9</th>\n",
              "      <td>Imabikisou</td>\n",
              "      <td>PS3</td>\n",
              "      <td>Adventure</td>\n",
              "      <td>0.04</td>\n",
              "    </tr>\n",
              "    <tr>\n",
              "      <th>10</th>\n",
              "      <td>The Penguins of Madagascar: Dr. Blowhole Retur...</td>\n",
              "      <td>PS3</td>\n",
              "      <td>Action</td>\n",
              "      <td>0.08</td>\n",
              "    </tr>\n",
              "  </tbody>\n",
              "</table>\n",
              "</div>"
            ],
            "text/plain": [
              "                                                 Name  ... Sales_Total\n",
              "1                        Candace Kane's Candy Factory  ...        0.04\n",
              "2                                      The Munchables  ...        0.18\n",
              "3      Otome wa Oanesama Boku ni Koi Shiteru Portable  ...        0.02\n",
              "4                    Deal or No Deal: Special Edition  ...        0.04\n",
              "5           Ben 10 Ultimate Alien: Cosmic Destruction  ...        0.25\n",
              "6                              Power Pro Kun Pocket 8  ...        0.14\n",
              "7               JASF: Jane's Advanced Strike Fighters  ...        0.03\n",
              "8                      Samurai Warriors: State of War  ...        0.19\n",
              "9                                          Imabikisou  ...        0.04\n",
              "10  The Penguins of Madagascar: Dr. Blowhole Retur...  ...        0.08\n",
              "\n",
              "[10 rows x 4 columns]"
            ]
          },
          "metadata": {
            "tags": []
          },
          "execution_count": 47
        }
      ]
    },
    {
      "cell_type": "code",
      "metadata": {
        "colab": {
          "base_uri": "https://localhost:8080/",
          "height": 465
        },
        "id": "M6RK-Wo37Zfm",
        "outputId": "e4f05ab7-fdbd-4841-fdb2-b669700dcca7"
      },
      "source": [
        "# 출고량이 높은 Top 10 추출하기\n",
        "graph2 = df4.sort_values(by='Sales_Total', ascending= False).head(10)\n",
        "print(graph2)\n",
        "# 출고량 Top10 항목 시각화\n",
        "sns.barplot(x='Name', y='Sales_Total', data=graph2)\n",
        "plt.title('Sum of Sales', fontsize=20)\n",
        "plt.rcParams['figure.figsize'] = [20, 10]\n",
        "plt.show()"
      ],
      "execution_count": null,
      "outputs": [
        {
          "output_type": "stream",
          "text": [
            "                            Name Platform         Genre  Sales_Total\n",
            "2909                  Wii Sports      Wii        Sports        82.74\n",
            "4200           Super Mario Bros.      NES      Platform        40.24\n",
            "12580             Mario Kart Wii      Wii        Racing        35.83\n",
            "3353           Wii Sports Resort      Wii        Sports        33.00\n",
            "7830    Pokemon Red/Pokemon Blue       GB  Role-Playing        31.38\n",
            "1204                      Tetris       GB        Puzzle        30.26\n",
            "6938       New Super Mario Bros.       DS      Platform        30.01\n",
            "3015                    Wii Play      Wii          Misc        29.01\n",
            "16532  New Super Mario Bros. Wii      Wii      Platform        28.61\n",
            "10489                  Duck Hunt      NES       Shooter        28.31\n"
          ],
          "name": "stdout"
        },
        {
          "output_type": "display_data",
          "data": {
            "image/png": "[encoded data removed]",
            "text/plain": [
              "<Figure size 4320x720 with 1 Axes>"
            ]
          },
          "metadata": {
            "tags": [],
            "needs_background": "light"
          }
        }
      ]
    },
    {
      "cell_type": "code",
      "metadata": {
        "colab": {
          "base_uri": "https://localhost:8080/",
          "height": 77
        },
        "id": "Aq944Mn__O-R",
        "outputId": "b193bbaf-0b65-47bd-ba97-e2f3b1f2121b"
      },
      "source": [
        "k = (df['Name']=='Wii Sports')\n",
        "df[k]"
      ],
      "execution_count": null,
      "outputs": [
        {
          "output_type": "execute_result",
          "data": {
            "text/html": [
              "<div>\n",
              "<style scoped>\n",
              "    .dataframe tbody tr th:only-of-type {\n",
              "        vertical-align: middle;\n",
              "    }\n",
              "\n",
              "    .dataframe tbody tr th {\n",
              "        vertical-align: top;\n",
              "    }\n",
              "\n",
              "    .dataframe thead th {\n",
              "        text-align: right;\n",
              "    }\n",
              "</style>\n",
              "<table border=\"1\" class=\"dataframe\">\n",
              "  <thead>\n",
              "    <tr style=\"text-align: right;\">\n",
              "      <th></th>\n",
              "      <th>Name</th>\n",
              "      <th>Platform</th>\n",
              "      <th>Year</th>\n",
              "      <th>Genre</th>\n",
              "      <th>Publisher</th>\n",
              "      <th>NA_Sales</th>\n",
              "      <th>EU_Sales</th>\n",
              "      <th>JP_Sales</th>\n",
              "      <th>Other_Sales</th>\n",
              "      <th>Sales_Total</th>\n",
              "    </tr>\n",
              "  </thead>\n",
              "  <tbody>\n",
              "    <tr>\n",
              "      <th>2909</th>\n",
              "      <td>Wii Sports</td>\n",
              "      <td>Wii</td>\n",
              "      <td>2006</td>\n",
              "      <td>Sports</td>\n",
              "      <td>Nintendo</td>\n",
              "      <td>41.49</td>\n",
              "      <td>29.02</td>\n",
              "      <td>3.77</td>\n",
              "      <td>8.46</td>\n",
              "      <td>82.74</td>\n",
              "    </tr>\n",
              "  </tbody>\n",
              "</table>\n",
              "</div>"
            ],
            "text/plain": [
              "            Name Platform  Year  ... JP_Sales Other_Sales  Sales_Total\n",
              "2909  Wii Sports      Wii  2006  ...     3.77        8.46        82.74\n",
              "\n",
              "[1 rows x 10 columns]"
            ]
          },
          "metadata": {
            "tags": []
          },
          "execution_count": 49
        }
      ]
    },
    {
      "cell_type": "code",
      "metadata": {
        "colab": {
          "base_uri": "https://localhost:8080/",
          "height": 106
        },
        "id": "G_J7IqN6INmf",
        "outputId": "ae8ac503-7981-454b-a6a8-980473d0ceb3"
      },
      "source": [
        "ㅣ = (df['Name']=='Super Mario Bros.')\n",
        "df[ㅣ]"
      ],
      "execution_count": null,
      "outputs": [
        {
          "output_type": "execute_result",
          "data": {
            "text/html": [
              "<div>\n",
              "<style scoped>\n",
              "    .dataframe tbody tr th:only-of-type {\n",
              "        vertical-align: middle;\n",
              "    }\n",
              "\n",
              "    .dataframe tbody tr th {\n",
              "        vertical-align: top;\n",
              "    }\n",
              "\n",
              "    .dataframe thead th {\n",
              "        text-align: right;\n",
              "    }\n",
              "</style>\n",
              "<table border=\"1\" class=\"dataframe\">\n",
              "  <thead>\n",
              "    <tr style=\"text-align: right;\">\n",
              "      <th></th>\n",
              "      <th>Name</th>\n",
              "      <th>Platform</th>\n",
              "      <th>Year</th>\n",
              "      <th>Genre</th>\n",
              "      <th>Publisher</th>\n",
              "      <th>NA_Sales</th>\n",
              "      <th>EU_Sales</th>\n",
              "      <th>JP_Sales</th>\n",
              "      <th>Other_Sales</th>\n",
              "      <th>Sales_Total</th>\n",
              "    </tr>\n",
              "  </thead>\n",
              "  <tbody>\n",
              "    <tr>\n",
              "      <th>4200</th>\n",
              "      <td>Super Mario Bros.</td>\n",
              "      <td>NES</td>\n",
              "      <td>1985</td>\n",
              "      <td>Platform</td>\n",
              "      <td>Nintendo</td>\n",
              "      <td>29.08</td>\n",
              "      <td>3.58</td>\n",
              "      <td>6.81</td>\n",
              "      <td>0.77</td>\n",
              "      <td>40.24</td>\n",
              "    </tr>\n",
              "    <tr>\n",
              "      <th>13053</th>\n",
              "      <td>Super Mario Bros.</td>\n",
              "      <td>GB</td>\n",
              "      <td>1999</td>\n",
              "      <td>Platform</td>\n",
              "      <td>Nintendo</td>\n",
              "      <td>3.40</td>\n",
              "      <td>1.30</td>\n",
              "      <td>0.15</td>\n",
              "      <td>0.22</td>\n",
              "      <td>5.07</td>\n",
              "    </tr>\n",
              "  </tbody>\n",
              "</table>\n",
              "</div>"
            ],
            "text/plain": [
              "                    Name Platform  Year  ... JP_Sales Other_Sales  Sales_Total\n",
              "4200   Super Mario Bros.      NES  1985  ...     6.81        0.77        40.24\n",
              "13053  Super Mario Bros.       GB  1999  ...     0.15        0.22         5.07\n",
              "\n",
              "[2 rows x 10 columns]"
            ]
          },
          "metadata": {
            "tags": []
          },
          "execution_count": 50
        }
      ]
    },
    {
      "cell_type": "markdown",
      "metadata": {
        "id": "qNMK-8OO-qeM"
      },
      "source": [
        "#### 📌 **알 수 있는 사실**\n",
        "\n",
        "- wii sports가 82.74로 출고량이 가장 많다.\n",
        "  - wii sports는 **장르** : Sports이며, **Platform**은 Wii 이다\n",
        "  - 미국에서의 출고량이 가장 많다.\n",
        "  - 2006년 판매 데이터이다.\n",
        "<br>\n",
        "- 두번째로 출고량이 많은 게임은 'Super Mario Bros' 로 40.24이다.\n",
        "  - 이 역시 미국에서의 출고량이 가장 많다.\n",
        "  - 장르는 Platform이다.\n",
        "  - 1985년 기준이다.\n",
        "\n",
        "<br>\n",
        "\n",
        "- 판매량이 많은 Top10 개의 게임 중 10개 모두 **닌텐도와 관련된 Platform** 이다. (NES : 닌텐도 엔터테인먼트 시스템 // GB : 닌텐도 게임보이)\n",
        "\n",
        "- 출고량이 높은 10개의 게임은 마리오나 포켓몬 처럼 익숙한 **캐릭터**가 등장한다. \n",
        "\n",
        "- Platrform이나 Sprots 게임처럼 **난이도가 어렵지 않은** 게임들임을 알 수 있다.\n",
        "\n",
        "- 판매량이 많은 Top10 개의 게임 중 **2개의 장르가 Sports**, **3개의 장르가 Platform**이다"
      ]
    },
    {
      "cell_type": "markdown",
      "metadata": {
        "id": "eQQ5H4yyJOsr"
      },
      "source": [
        "📌 **닌텐도 Wii**\n",
        "\n",
        "- Wii Sports 같은 경우는 다음과 같은 특징이 있다. <br>\n",
        " - Wii 리모컨의 특징을 살리면서, 테니스, 야구, 골프, 볼링, 복싱의 총 다섯 종류의 게임이 포함되어 있다. \n",
        " - 모두 실제에 가까운 움직임으로 플레이하며 또한 여러 명이서 대전 플레이가 가능하다.\n",
        " - 남녀노소 쉽고 재밌게 컨텐츠를 즐길 수 있다는 **장점이 있다.**\n",
        "\n",
        "⭐️ **결론** <br>\n",
        ": 이와같은 사실로, 다음분기의 게임을 만들 때 아래의 3가지 조건을 반영하는 것이 필요해 보인다.\n",
        "\n",
        "- 게임의 플레이가 **쉬워야 한다** \n",
        "- 대중에게 익숙하고 친근한 이미지를 주는 **캐릭터**가 사용되어야 한다.\n",
        "- 게임의 플랫폼을 제한해야 하는 상황이 온다면 **닌텐도** 와의 협업은 반드시 선택해야 한다."
      ]
    },
    {
      "cell_type": "markdown",
      "metadata": {
        "id": "QIXmh19OQ6L7"
      },
      "source": [
        "#### 📢 **지역에 따른 게임 장르의 선호도 차이 알아보기** \n",
        "\n",
        "- 지역별 출고량 수를 통해 선호도를 비교할 수 있다고 생각한다."
      ]
    },
    {
      "cell_type": "code",
      "metadata": {
        "colab": {
          "base_uri": "https://localhost:8080/",
          "height": 432
        },
        "id": "csz5VrwnROa3",
        "outputId": "9d453ba2-dcd5-4aa2-b05e-02a1662f204c"
      },
      "source": [
        "#장르와 Sales 데이터만 따로 뽑기 df5에 저장\n",
        "df5 = df[['Genre','NA_Sales','EU_Sales','JP_Sales','Other_Sales']]\n",
        "\n",
        "#장르에 대해서 Groupby 하기\n",
        "df5 = df5.groupby('Genre').sum()\n",
        "\n",
        "# NA_Sales를 기준으로 내림차순 정리\n",
        "df5.sort_values(by='NA_Sales', ascending= False)"
      ],
      "execution_count": null,
      "outputs": [
        {
          "output_type": "execute_result",
          "data": {
            "text/html": [
              "<div>\n",
              "<style scoped>\n",
              "    .dataframe tbody tr th:only-of-type {\n",
              "        vertical-align: middle;\n",
              "    }\n",
              "\n",
              "    .dataframe tbody tr th {\n",
              "        vertical-align: top;\n",
              "    }\n",
              "\n",
              "    .dataframe thead th {\n",
              "        text-align: right;\n",
              "    }\n",
              "</style>\n",
              "<table border=\"1\" class=\"dataframe\">\n",
              "  <thead>\n",
              "    <tr style=\"text-align: right;\">\n",
              "      <th></th>\n",
              "      <th>NA_Sales</th>\n",
              "      <th>EU_Sales</th>\n",
              "      <th>JP_Sales</th>\n",
              "      <th>Other_Sales</th>\n",
              "    </tr>\n",
              "    <tr>\n",
              "      <th>Genre</th>\n",
              "      <th></th>\n",
              "      <th></th>\n",
              "      <th></th>\n",
              "      <th></th>\n",
              "    </tr>\n",
              "  </thead>\n",
              "  <tbody>\n",
              "    <tr>\n",
              "      <th>Action</th>\n",
              "      <td>858.75</td>\n",
              "      <td>513.64</td>\n",
              "      <td>156.60</td>\n",
              "      <td>183.99</td>\n",
              "    </tr>\n",
              "    <tr>\n",
              "      <th>Sports</th>\n",
              "      <td>667.26</td>\n",
              "      <td>370.97</td>\n",
              "      <td>134.76</td>\n",
              "      <td>132.35</td>\n",
              "    </tr>\n",
              "    <tr>\n",
              "      <th>Shooter</th>\n",
              "      <td>574.48</td>\n",
              "      <td>310.23</td>\n",
              "      <td>38.18</td>\n",
              "      <td>101.86</td>\n",
              "    </tr>\n",
              "    <tr>\n",
              "      <th>Platform</th>\n",
              "      <td>445.38</td>\n",
              "      <td>200.63</td>\n",
              "      <td>130.53</td>\n",
              "      <td>51.45</td>\n",
              "    </tr>\n",
              "    <tr>\n",
              "      <th>Misc</th>\n",
              "      <td>394.73</td>\n",
              "      <td>208.15</td>\n",
              "      <td>104.18</td>\n",
              "      <td>72.64</td>\n",
              "    </tr>\n",
              "    <tr>\n",
              "      <th>Racing</th>\n",
              "      <td>354.70</td>\n",
              "      <td>235.02</td>\n",
              "      <td>56.32</td>\n",
              "      <td>76.51</td>\n",
              "    </tr>\n",
              "    <tr>\n",
              "      <th>Role-Playing</th>\n",
              "      <td>318.76</td>\n",
              "      <td>183.09</td>\n",
              "      <td>342.93</td>\n",
              "      <td>56.73</td>\n",
              "    </tr>\n",
              "    <tr>\n",
              "      <th>Fighting</th>\n",
              "      <td>220.35</td>\n",
              "      <td>99.90</td>\n",
              "      <td>87.14</td>\n",
              "      <td>36.15</td>\n",
              "    </tr>\n",
              "    <tr>\n",
              "      <th>Simulation</th>\n",
              "      <td>181.43</td>\n",
              "      <td>112.99</td>\n",
              "      <td>63.54</td>\n",
              "      <td>31.32</td>\n",
              "    </tr>\n",
              "    <tr>\n",
              "      <th>Puzzle</th>\n",
              "      <td>121.58</td>\n",
              "      <td>50.47</td>\n",
              "      <td>56.24</td>\n",
              "      <td>12.44</td>\n",
              "    </tr>\n",
              "    <tr>\n",
              "      <th>Adventure</th>\n",
              "      <td>101.79</td>\n",
              "      <td>63.66</td>\n",
              "      <td>51.87</td>\n",
              "      <td>16.70</td>\n",
              "    </tr>\n",
              "    <tr>\n",
              "      <th>Strategy</th>\n",
              "      <td>67.83</td>\n",
              "      <td>44.82</td>\n",
              "      <td>49.10</td>\n",
              "      <td>11.23</td>\n",
              "    </tr>\n",
              "  </tbody>\n",
              "</table>\n",
              "</div>"
            ],
            "text/plain": [
              "              NA_Sales  EU_Sales  JP_Sales  Other_Sales\n",
              "Genre                                                  \n",
              "Action          858.75    513.64    156.60       183.99\n",
              "Sports          667.26    370.97    134.76       132.35\n",
              "Shooter         574.48    310.23     38.18       101.86\n",
              "Platform        445.38    200.63    130.53        51.45\n",
              "Misc            394.73    208.15    104.18        72.64\n",
              "Racing          354.70    235.02     56.32        76.51\n",
              "Role-Playing    318.76    183.09    342.93        56.73\n",
              "Fighting        220.35     99.90     87.14        36.15\n",
              "Simulation      181.43    112.99     63.54        31.32\n",
              "Puzzle          121.58     50.47     56.24        12.44\n",
              "Adventure       101.79     63.66     51.87        16.70\n",
              "Strategy         67.83     44.82     49.10        11.23"
            ]
          },
          "metadata": {
            "tags": []
          },
          "execution_count": 51
        }
      ]
    },
    {
      "cell_type": "code",
      "metadata": {
        "colab": {
          "base_uri": "https://localhost:8080/",
          "height": 432
        },
        "id": "BxeyO7DbeGyx",
        "outputId": "6b98e1d5-4e73-4299-e7ef-715fa40c6f19"
      },
      "source": [
        "# EU 기준으로 내림차순 정렬\n",
        "df5.sort_values(by='EU_Sales', ascending= False)"
      ],
      "execution_count": null,
      "outputs": [
        {
          "output_type": "execute_result",
          "data": {
            "text/html": [
              "<div>\n",
              "<style scoped>\n",
              "    .dataframe tbody tr th:only-of-type {\n",
              "        vertical-align: middle;\n",
              "    }\n",
              "\n",
              "    .dataframe tbody tr th {\n",
              "        vertical-align: top;\n",
              "    }\n",
              "\n",
              "    .dataframe thead th {\n",
              "        text-align: right;\n",
              "    }\n",
              "</style>\n",
              "<table border=\"1\" class=\"dataframe\">\n",
              "  <thead>\n",
              "    <tr style=\"text-align: right;\">\n",
              "      <th></th>\n",
              "      <th>NA_Sales</th>\n",
              "      <th>EU_Sales</th>\n",
              "      <th>JP_Sales</th>\n",
              "      <th>Other_Sales</th>\n",
              "    </tr>\n",
              "    <tr>\n",
              "      <th>Genre</th>\n",
              "      <th></th>\n",
              "      <th></th>\n",
              "      <th></th>\n",
              "      <th></th>\n",
              "    </tr>\n",
              "  </thead>\n",
              "  <tbody>\n",
              "    <tr>\n",
              "      <th>Action</th>\n",
              "      <td>858.75</td>\n",
              "      <td>513.64</td>\n",
              "      <td>156.60</td>\n",
              "      <td>183.99</td>\n",
              "    </tr>\n",
              "    <tr>\n",
              "      <th>Sports</th>\n",
              "      <td>667.26</td>\n",
              "      <td>370.97</td>\n",
              "      <td>134.76</td>\n",
              "      <td>132.35</td>\n",
              "    </tr>\n",
              "    <tr>\n",
              "      <th>Shooter</th>\n",
              "      <td>574.48</td>\n",
              "      <td>310.23</td>\n",
              "      <td>38.18</td>\n",
              "      <td>101.86</td>\n",
              "    </tr>\n",
              "    <tr>\n",
              "      <th>Racing</th>\n",
              "      <td>354.70</td>\n",
              "      <td>235.02</td>\n",
              "      <td>56.32</td>\n",
              "      <td>76.51</td>\n",
              "    </tr>\n",
              "    <tr>\n",
              "      <th>Misc</th>\n",
              "      <td>394.73</td>\n",
              "      <td>208.15</td>\n",
              "      <td>104.18</td>\n",
              "      <td>72.64</td>\n",
              "    </tr>\n",
              "    <tr>\n",
              "      <th>Platform</th>\n",
              "      <td>445.38</td>\n",
              "      <td>200.63</td>\n",
              "      <td>130.53</td>\n",
              "      <td>51.45</td>\n",
              "    </tr>\n",
              "    <tr>\n",
              "      <th>Role-Playing</th>\n",
              "      <td>318.76</td>\n",
              "      <td>183.09</td>\n",
              "      <td>342.93</td>\n",
              "      <td>56.73</td>\n",
              "    </tr>\n",
              "    <tr>\n",
              "      <th>Simulation</th>\n",
              "      <td>181.43</td>\n",
              "      <td>112.99</td>\n",
              "      <td>63.54</td>\n",
              "      <td>31.32</td>\n",
              "    </tr>\n",
              "    <tr>\n",
              "      <th>Fighting</th>\n",
              "      <td>220.35</td>\n",
              "      <td>99.90</td>\n",
              "      <td>87.14</td>\n",
              "      <td>36.15</td>\n",
              "    </tr>\n",
              "    <tr>\n",
              "      <th>Adventure</th>\n",
              "      <td>101.79</td>\n",
              "      <td>63.66</td>\n",
              "      <td>51.87</td>\n",
              "      <td>16.70</td>\n",
              "    </tr>\n",
              "    <tr>\n",
              "      <th>Puzzle</th>\n",
              "      <td>121.58</td>\n",
              "      <td>50.47</td>\n",
              "      <td>56.24</td>\n",
              "      <td>12.44</td>\n",
              "    </tr>\n",
              "    <tr>\n",
              "      <th>Strategy</th>\n",
              "      <td>67.83</td>\n",
              "      <td>44.82</td>\n",
              "      <td>49.10</td>\n",
              "      <td>11.23</td>\n",
              "    </tr>\n",
              "  </tbody>\n",
              "</table>\n",
              "</div>"
            ],
            "text/plain": [
              "              NA_Sales  EU_Sales  JP_Sales  Other_Sales\n",
              "Genre                                                  \n",
              "Action          858.75    513.64    156.60       183.99\n",
              "Sports          667.26    370.97    134.76       132.35\n",
              "Shooter         574.48    310.23     38.18       101.86\n",
              "Racing          354.70    235.02     56.32        76.51\n",
              "Misc            394.73    208.15    104.18        72.64\n",
              "Platform        445.38    200.63    130.53        51.45\n",
              "Role-Playing    318.76    183.09    342.93        56.73\n",
              "Simulation      181.43    112.99     63.54        31.32\n",
              "Fighting        220.35     99.90     87.14        36.15\n",
              "Adventure       101.79     63.66     51.87        16.70\n",
              "Puzzle          121.58     50.47     56.24        12.44\n",
              "Strategy         67.83     44.82     49.10        11.23"
            ]
          },
          "metadata": {
            "tags": []
          },
          "execution_count": 52
        }
      ]
    },
    {
      "cell_type": "code",
      "metadata": {
        "colab": {
          "base_uri": "https://localhost:8080/",
          "height": 432
        },
        "id": "8J3fBKkGeNig",
        "outputId": "da7d0aa7-f283-4e8a-ed08-b39229e8fe4a"
      },
      "source": [
        "# JP 기준으로 내림차순 정렬\n",
        "df5.sort_values(by='JP_Sales', ascending= False)"
      ],
      "execution_count": null,
      "outputs": [
        {
          "output_type": "execute_result",
          "data": {
            "text/html": [
              "<div>\n",
              "<style scoped>\n",
              "    .dataframe tbody tr th:only-of-type {\n",
              "        vertical-align: middle;\n",
              "    }\n",
              "\n",
              "    .dataframe tbody tr th {\n",
              "        vertical-align: top;\n",
              "    }\n",
              "\n",
              "    .dataframe thead th {\n",
              "        text-align: right;\n",
              "    }\n",
              "</style>\n",
              "<table border=\"1\" class=\"dataframe\">\n",
              "  <thead>\n",
              "    <tr style=\"text-align: right;\">\n",
              "      <th></th>\n",
              "      <th>NA_Sales</th>\n",
              "      <th>EU_Sales</th>\n",
              "      <th>JP_Sales</th>\n",
              "      <th>Other_Sales</th>\n",
              "    </tr>\n",
              "    <tr>\n",
              "      <th>Genre</th>\n",
              "      <th></th>\n",
              "      <th></th>\n",
              "      <th></th>\n",
              "      <th></th>\n",
              "    </tr>\n",
              "  </thead>\n",
              "  <tbody>\n",
              "    <tr>\n",
              "      <th>Role-Playing</th>\n",
              "      <td>318.76</td>\n",
              "      <td>183.09</td>\n",
              "      <td>342.93</td>\n",
              "      <td>56.73</td>\n",
              "    </tr>\n",
              "    <tr>\n",
              "      <th>Action</th>\n",
              "      <td>858.75</td>\n",
              "      <td>513.64</td>\n",
              "      <td>156.60</td>\n",
              "      <td>183.99</td>\n",
              "    </tr>\n",
              "    <tr>\n",
              "      <th>Sports</th>\n",
              "      <td>667.26</td>\n",
              "      <td>370.97</td>\n",
              "      <td>134.76</td>\n",
              "      <td>132.35</td>\n",
              "    </tr>\n",
              "    <tr>\n",
              "      <th>Platform</th>\n",
              "      <td>445.38</td>\n",
              "      <td>200.63</td>\n",
              "      <td>130.53</td>\n",
              "      <td>51.45</td>\n",
              "    </tr>\n",
              "    <tr>\n",
              "      <th>Misc</th>\n",
              "      <td>394.73</td>\n",
              "      <td>208.15</td>\n",
              "      <td>104.18</td>\n",
              "      <td>72.64</td>\n",
              "    </tr>\n",
              "    <tr>\n",
              "      <th>Fighting</th>\n",
              "      <td>220.35</td>\n",
              "      <td>99.90</td>\n",
              "      <td>87.14</td>\n",
              "      <td>36.15</td>\n",
              "    </tr>\n",
              "    <tr>\n",
              "      <th>Simulation</th>\n",
              "      <td>181.43</td>\n",
              "      <td>112.99</td>\n",
              "      <td>63.54</td>\n",
              "      <td>31.32</td>\n",
              "    </tr>\n",
              "    <tr>\n",
              "      <th>Racing</th>\n",
              "      <td>354.70</td>\n",
              "      <td>235.02</td>\n",
              "      <td>56.32</td>\n",
              "      <td>76.51</td>\n",
              "    </tr>\n",
              "    <tr>\n",
              "      <th>Puzzle</th>\n",
              "      <td>121.58</td>\n",
              "      <td>50.47</td>\n",
              "      <td>56.24</td>\n",
              "      <td>12.44</td>\n",
              "    </tr>\n",
              "    <tr>\n",
              "      <th>Adventure</th>\n",
              "      <td>101.79</td>\n",
              "      <td>63.66</td>\n",
              "      <td>51.87</td>\n",
              "      <td>16.70</td>\n",
              "    </tr>\n",
              "    <tr>\n",
              "      <th>Strategy</th>\n",
              "      <td>67.83</td>\n",
              "      <td>44.82</td>\n",
              "      <td>49.10</td>\n",
              "      <td>11.23</td>\n",
              "    </tr>\n",
              "    <tr>\n",
              "      <th>Shooter</th>\n",
              "      <td>574.48</td>\n",
              "      <td>310.23</td>\n",
              "      <td>38.18</td>\n",
              "      <td>101.86</td>\n",
              "    </tr>\n",
              "  </tbody>\n",
              "</table>\n",
              "</div>"
            ],
            "text/plain": [
              "              NA_Sales  EU_Sales  JP_Sales  Other_Sales\n",
              "Genre                                                  \n",
              "Role-Playing    318.76    183.09    342.93        56.73\n",
              "Action          858.75    513.64    156.60       183.99\n",
              "Sports          667.26    370.97    134.76       132.35\n",
              "Platform        445.38    200.63    130.53        51.45\n",
              "Misc            394.73    208.15    104.18        72.64\n",
              "Fighting        220.35     99.90     87.14        36.15\n",
              "Simulation      181.43    112.99     63.54        31.32\n",
              "Racing          354.70    235.02     56.32        76.51\n",
              "Puzzle          121.58     50.47     56.24        12.44\n",
              "Adventure       101.79     63.66     51.87        16.70\n",
              "Strategy         67.83     44.82     49.10        11.23\n",
              "Shooter         574.48    310.23     38.18       101.86"
            ]
          },
          "metadata": {
            "tags": []
          },
          "execution_count": 53
        }
      ]
    },
    {
      "cell_type": "code",
      "metadata": {
        "colab": {
          "base_uri": "https://localhost:8080/",
          "height": 432
        },
        "id": "7QGnr6VeeXSv",
        "outputId": "37d14acb-b189-4805-d18f-a0c8cdbeb1b6"
      },
      "source": [
        "# Other_sales 기준으로 내림차순 정렬\n",
        "df5.sort_values(by='Other_Sales', ascending= False)"
      ],
      "execution_count": null,
      "outputs": [
        {
          "output_type": "execute_result",
          "data": {
            "text/html": [
              "<div>\n",
              "<style scoped>\n",
              "    .dataframe tbody tr th:only-of-type {\n",
              "        vertical-align: middle;\n",
              "    }\n",
              "\n",
              "    .dataframe tbody tr th {\n",
              "        vertical-align: top;\n",
              "    }\n",
              "\n",
              "    .dataframe thead th {\n",
              "        text-align: right;\n",
              "    }\n",
              "</style>\n",
              "<table border=\"1\" class=\"dataframe\">\n",
              "  <thead>\n",
              "    <tr style=\"text-align: right;\">\n",
              "      <th></th>\n",
              "      <th>NA_Sales</th>\n",
              "      <th>EU_Sales</th>\n",
              "      <th>JP_Sales</th>\n",
              "      <th>Other_Sales</th>\n",
              "    </tr>\n",
              "    <tr>\n",
              "      <th>Genre</th>\n",
              "      <th></th>\n",
              "      <th></th>\n",
              "      <th></th>\n",
              "      <th></th>\n",
              "    </tr>\n",
              "  </thead>\n",
              "  <tbody>\n",
              "    <tr>\n",
              "      <th>Action</th>\n",
              "      <td>858.75</td>\n",
              "      <td>513.64</td>\n",
              "      <td>156.60</td>\n",
              "      <td>183.99</td>\n",
              "    </tr>\n",
              "    <tr>\n",
              "      <th>Sports</th>\n",
              "      <td>667.26</td>\n",
              "      <td>370.97</td>\n",
              "      <td>134.76</td>\n",
              "      <td>132.35</td>\n",
              "    </tr>\n",
              "    <tr>\n",
              "      <th>Shooter</th>\n",
              "      <td>574.48</td>\n",
              "      <td>310.23</td>\n",
              "      <td>38.18</td>\n",
              "      <td>101.86</td>\n",
              "    </tr>\n",
              "    <tr>\n",
              "      <th>Racing</th>\n",
              "      <td>354.70</td>\n",
              "      <td>235.02</td>\n",
              "      <td>56.32</td>\n",
              "      <td>76.51</td>\n",
              "    </tr>\n",
              "    <tr>\n",
              "      <th>Misc</th>\n",
              "      <td>394.73</td>\n",
              "      <td>208.15</td>\n",
              "      <td>104.18</td>\n",
              "      <td>72.64</td>\n",
              "    </tr>\n",
              "    <tr>\n",
              "      <th>Role-Playing</th>\n",
              "      <td>318.76</td>\n",
              "      <td>183.09</td>\n",
              "      <td>342.93</td>\n",
              "      <td>56.73</td>\n",
              "    </tr>\n",
              "    <tr>\n",
              "      <th>Platform</th>\n",
              "      <td>445.38</td>\n",
              "      <td>200.63</td>\n",
              "      <td>130.53</td>\n",
              "      <td>51.45</td>\n",
              "    </tr>\n",
              "    <tr>\n",
              "      <th>Fighting</th>\n",
              "      <td>220.35</td>\n",
              "      <td>99.90</td>\n",
              "      <td>87.14</td>\n",
              "      <td>36.15</td>\n",
              "    </tr>\n",
              "    <tr>\n",
              "      <th>Simulation</th>\n",
              "      <td>181.43</td>\n",
              "      <td>112.99</td>\n",
              "      <td>63.54</td>\n",
              "      <td>31.32</td>\n",
              "    </tr>\n",
              "    <tr>\n",
              "      <th>Adventure</th>\n",
              "      <td>101.79</td>\n",
              "      <td>63.66</td>\n",
              "      <td>51.87</td>\n",
              "      <td>16.70</td>\n",
              "    </tr>\n",
              "    <tr>\n",
              "      <th>Puzzle</th>\n",
              "      <td>121.58</td>\n",
              "      <td>50.47</td>\n",
              "      <td>56.24</td>\n",
              "      <td>12.44</td>\n",
              "    </tr>\n",
              "    <tr>\n",
              "      <th>Strategy</th>\n",
              "      <td>67.83</td>\n",
              "      <td>44.82</td>\n",
              "      <td>49.10</td>\n",
              "      <td>11.23</td>\n",
              "    </tr>\n",
              "  </tbody>\n",
              "</table>\n",
              "</div>"
            ],
            "text/plain": [
              "              NA_Sales  EU_Sales  JP_Sales  Other_Sales\n",
              "Genre                                                  \n",
              "Action          858.75    513.64    156.60       183.99\n",
              "Sports          667.26    370.97    134.76       132.35\n",
              "Shooter         574.48    310.23     38.18       101.86\n",
              "Racing          354.70    235.02     56.32        76.51\n",
              "Misc            394.73    208.15    104.18        72.64\n",
              "Role-Playing    318.76    183.09    342.93        56.73\n",
              "Platform        445.38    200.63    130.53        51.45\n",
              "Fighting        220.35     99.90     87.14        36.15\n",
              "Simulation      181.43    112.99     63.54        31.32\n",
              "Adventure       101.79     63.66     51.87        16.70\n",
              "Puzzle          121.58     50.47     56.24        12.44\n",
              "Strategy         67.83     44.82     49.10        11.23"
            ]
          },
          "metadata": {
            "tags": []
          },
          "execution_count": 54
        }
      ]
    },
    {
      "cell_type": "code",
      "metadata": {
        "colab": {
          "base_uri": "https://localhost:8080/"
        },
        "id": "0zh_Loo8hS3H",
        "outputId": "aced041d-18aa-48b0-f5dc-663eb919e08e"
      },
      "source": [
        "# 지역별 출고량 총합 구하기\n",
        "df5.sum()"
      ],
      "execution_count": null,
      "outputs": [
        {
          "output_type": "execute_result",
          "data": {
            "text/plain": [
              "NA_Sales       4307.04\n",
              "EU_Sales       2393.57\n",
              "JP_Sales       1271.39\n",
              "Other_Sales     783.37\n",
              "dtype: float64"
            ]
          },
          "metadata": {
            "tags": []
          },
          "execution_count": 55
        }
      ]
    },
    {
      "cell_type": "markdown",
      "metadata": {
        "id": "mpNoyO6Leox-"
      },
      "source": [
        "#### 📌 **알 수 있는 사실**\n",
        "- 지역별로 선호하는 장르에 차이가 보인다.\n",
        "- 어드밴처 , 전략 게임은 4개 지역 공통적으로 선호도가 **하위권**에 위치한다.\n",
        "- 4개의 지역별 게임 선호 장르의 **공통점** 으로는 **Action과 Sports**가 1~3위 내에 위치한다는 점이다.\n",
        "- **지역별 출고량 총합**은 미국이 가장 크고, 유럽, 일본, 그외 나라 순서이다.\n",
        "- 일본은 **Role-playing 게임이 선호도 1위**라는 것이 눈에 띈다.\n",
        "- 일본은 타지역들과 달리 **Shooting 게임이 최하위**에 위치하고 있다는 점도 눈여겨 볼만 하다.\n"
      ]
    },
    {
      "cell_type": "markdown",
      "metadata": {
        "id": "wIQgeaCZfi7F"
      },
      "source": [
        "##### 📌 **사실을 통한 아이디어 도출**\n",
        "\n",
        "- 전략 게임 등 비교적 **난이도가 높은** 게임은 지리적 위치에 상관없이 공통적으로 선호도가 **낮을 것이다**\n",
        "\n",
        "- Action 과 Sports는 지역에 관계 없이 **높은 선호도**를 보일 것이다.\n",
        "\n",
        "\n",
        "- 일본은 총게임 처럼 **잔인한 게임**에 대한 선호도가 낮을 수 있음을 추측해 볼 수 있다.\n",
        "\n",
        "\n",
        "\n",
        "⭐️ **결론** <br>\n",
        ": 따라서, 다음분기의 게임을 만들 때 아래의 요소들을 고려하는 것이 필요하다고 생각.\n",
        "\n",
        "- **Sports나 Action 게임**에 투자하는 것이 안전한 방향일 것이다. \n",
        "- 게임의 플레이 난이도가 **어렵지 않아야 한다**\n",
        "- 게임의 출시 시기가 지역별로 차이가 나야하는 상황이라면 **미국에 먼저 출시** 하는 것이 좋다.\n",
        "  - 시장이 크기 때문에, 마케팅 속도가 빠를 것이라고 생각되기 때문이다."
      ]
    },
    {
      "cell_type": "markdown",
      "metadata": {
        "id": "R-I0Svqzkvy6"
      },
      "source": [
        "### 📢 **히트작을 가장 많이 만든 회사**"
      ]
    },
    {
      "cell_type": "code",
      "metadata": {
        "id": "JyheBmz_k1xv"
      },
      "source": [
        "# 출고량이 많은 Top20 회사\n",
        "Many_make = df[['Publisher','Sales_Total']]\n",
        "Many_make.sort_values(by='Sales_Total',ascending=False).head(20)\n"
      ],
      "execution_count": null,
      "outputs": []
    },
    {
      "cell_type": "code",
      "metadata": {
        "colab": {
          "base_uri": "https://localhost:8080/",
          "height": 575
        },
        "id": "mymyaDd1oHhP",
        "outputId": "9b6a381a-9180-425e-db57-e516719062fe"
      },
      "source": [
        "import matplotlib.pyplot as plt\n",
        "\n",
        "ratio = [17,2,1]\n",
        "labels = ['Nintendo', 'Take-Two Interactive', 'Microsoft Game Studios']\n",
        "colors = ['#ff9999', '#ffc000', '#8fd9b6']\n",
        "wedgeprops={'width': 0.7, 'edgecolor': 'w', 'linewidth': 5}\n",
        "\n",
        "plt.pie(ratio, labels=labels, autopct='%.1f%%', startangle=260, counterclock=False, colors=colors, wedgeprops=wedgeprops)\n",
        "plt.show()"
      ],
      "execution_count": null,
      "outputs": [
        {
          "output_type": "display_data",
          "data": {
            "image/png": "[encoded data removed]",
            "text/plain": [
              "<Figure size 1440x720 with 1 Axes>"
            ]
          },
          "metadata": {
            "tags": []
          }
        }
      ]
    },
    {
      "cell_type": "markdown",
      "metadata": {
        "id": "sNfflWiTmui8"
      },
      "source": [
        "#### 📌 **알 수 있는 사실**\n",
        "\n",
        "- 역대 비디오게임 Top20 출고량을 조사해 봤을 때 **닌텐도 회사**가 85%를 차지한다. \n",
        "\n",
        "- **따라서** 닌텐도의 경쟁력이 강하다는 것을 알 수 있다."
      ]
    },
    {
      "cell_type": "markdown",
      "metadata": {
        "id": "z6OHgot5j773"
      },
      "source": [
        "#### 📢 **최종 결론**\n",
        "\n",
        "앞에서 진행한 4가지 주제에 대한 분석 결과를 정리하면 다음과 같다.\n",
        "\n",
        "- 연도별 게임 장르의 트랜드 분석을 통해서 **Action 장르**가 가장 오랫동안 인기가 있었으며, 최근까지도 그 수요가 높았음을 알 수 있다.\n",
        "\n",
        "- 전체 지역을 대상으로 출고량이 높은 게임을 분석한 결과\n",
        "  - **플레이가 쉽고**, <br>\n",
        "    **친숙한 게임 캐릭터**를 사용하는 것이 게임의 인기와 연관됨을 알 수 있다.\n",
        "  - 또한 **닌텐도가 Platform으로써 영향력이 크다**는 것을 알 수 있다.\n",
        "\n",
        "- 지역별로 선호하는 게임 장르를 분석한 결과\n",
        "  - 지역 공통적으로 **Sports나 Action** 게임이 선호도가 높음을 알 수 있다.\n",
        "  - 전략게임처럼 **난이도가 높은 게임은** 전체적으로 선호도가 낮음을 알 수 있다.\n",
        "  - 미국의 Viedo Game 시장이 **세계적으로 가장 크다**는 것을 알 수 있다.\n",
        "\n",
        "\n",
        "##**따라서**\n",
        "\n",
        "다음분기 게임 제작을 통해 회사가 안정적인 수익을 창출하려면, <br>\n",
        "\n",
        ">>\n",
        "게임의 장르는 **Action** <br>\n",
        "최우선적으로 고려해야 할 출시 지역은 **북미** <br>\n",
        "게임의 난이도는 **쉽고, 누구나 즐길수 있도록** <br>\n",
        "최우선 협력사는 **닌텐도** <br>\n",
        "캐릭터는 **유저에게 친숙하도록** <br>\n",
        ">>\n",
        "\n",
        "\n",
        "\n",
        "만들어야 한다고 생각한다.\n",
        "\n",
        "\n",
        "\n"
      ]
    },
    {
      "cell_type": "markdown",
      "metadata": {
        "id": "q0xJL2wepB9e"
      },
      "source": [
        "## **아쉬운점 및 느낀점**\n",
        "\n",
        "**코딩 :** 전처리 과정에서 for문을 사용하면 더 편할 것 같은데, 이번 기회에는 구현하지 못한 것이 아쉽다.\n",
        "<br>\n",
        "<br>\n",
        "**분석 :** 1980년대 부터 쌓아 온 데이터를 기반으로 분석을 했다. **하지만** 시대가 빠르게 변화하고, 메타버스 등 새로운 기술이 대두되고 있는 현실에서 과거의 자료를 가지고 한 분석만으로 새로운 서비스를 기획하는 것은 한계가 분명히 있음을 느꼈다.\n",
        "<br>\n",
        "<br>\n",
        "어떤 요소를  추가적으로 더 고려하는 것이 좋을까?에 대한 깊은 고민이 필요할 것 같다. "
      ]
    }
  ]
}